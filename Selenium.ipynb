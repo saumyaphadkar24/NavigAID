{
 "cells": [
  {
   "cell_type": "code",
   "execution_count": 102,
   "id": "e0c4466d-ebbe-4c2e-a3cb-dcbdf8239a18",
   "metadata": {},
   "outputs": [],
   "source": [
    "from selenium import webdriver\n",
    "from selenium.webdriver.chrome.service import Service as ChromeService\n",
    "from selenium.webdriver.common.by import By\n",
    "from selenium.webdriver.chrome.options import Options\n",
    "from selenium.webdriver.common.keys import Keys\n",
    "from selenium.webdriver.support.ui import WebDriverWait\n",
    "from selenium.webdriver.support import expected_conditions as EC\n",
    "import time\n",
    "import pyperclip\n",
    "\n",
    "driver = webdriver.Chrome()\n",
    "driver.get(\"https://notebooklm.google.com/\")\n",
    "\n",
    "time.sleep(3)\n",
    "\n",
    "username_xpath = \"/html/body/div[1]/div[1]/div[2]/c-wiz/div/div[2]/div/div/div[1]/form/span/section/div/div/div[1]/div/div[1]/div/div[1]/input\"\n",
    "username_input = driver.find_element(By.XPATH, username_xpath)\n",
    "\n",
    "username_input.send_keys(\"divhacks7\") \n",
    "\n",
    "next_button = \"/html/body/div[1]/div[1]/div[2]/c-wiz/div/div[3]/div/div[1]/div/div/button/span\"\n",
    "button = driver.find_element(By.XPATH, next_button)\n",
    "button.click()\n",
    "time.sleep(3)\n",
    "\n",
    "password_xpath = \"/html/body/div[1]/div[1]/div[2]/c-wiz/div/div[2]/div/div/div/form/span/section[2]/div/div/div[1]/div[1]/div/div/div/div/div[1]/div/div[1]/input\"\n",
    "password_input = driver.find_element(By.XPATH, password_xpath)\n",
    "\n",
    "password_input.send_keys(\"divhacks_2024$\") \n",
    "\n",
    "button = driver.find_element(By.XPATH, next_button)\n",
    "button.click()\n",
    "time.sleep(3)\n",
    "\n",
    "not_now_xpath = \"//span[@jsname='V67aGc' and text()='Not now']\"\n",
    "not_now_elements = driver.find_elements(By.XPATH, not_now_xpath)\n",
    "\n",
    "if not_now_elements:\n",
    "    not_now_elements[0].click()\n",
    "    time.sleep(3)\n",
    "\n",
    "recovery_skip_xpath = \"//span[@jsname='V67aGc' and text()='Skip']\"\n",
    "recovery_skip_element = driver.find_elements(By.XPATH, recovery_skip_xpath)\n",
    "if recovery_skip_element:\n",
    "    recovery_skip_element[0].click()\n",
    "    time.sleep(3)\n",
    "\n",
    "divhacks_notebook = driver.find_element(By.XPATH, \"/html/body/labs-tailwind-root/div/welcome-page/div/div[1]/div/project-button[2]/mat-card/div[2]/span\")\n",
    "divhacks_notebook.click()\n",
    "time.sleep(3)\n",
    "\n",
    "textarea_xpath = \"//textarea[@aria-label='Query box']\"\n",
    "textarea = WebDriverWait(driver, 10).until(EC.presence_of_element_located((By.XPATH, textarea_xpath)))\n",
    "\n",
    "first_text = \"Tell me using a calming tone. Include cues in your speech telling me to calm down and walking me through the first aid step by step.\"\n",
    "textarea.send_keys(first_text)\n",
    "arrow_xpath = \"//mat-icon[text()='arrow_forward']\"\n",
    "arrow_button = WebDriverWait(driver, 10).until(EC.element_to_be_clickable((By.XPATH, arrow_xpath)))\n",
    "arrow_button.click()\n",
    "time.sleep(20)\n",
    "\n",
    "prompt_text = \"I think i am having a heatstroke, what to do?\"\n",
    "textarea.send_keys(prompt_text)\n",
    "\n",
    "arrow_xpath = \"//mat-icon[text()='arrow_forward']\"\n",
    "arrow_button = WebDriverWait(driver, 50).until(EC.element_to_be_clickable((By.XPATH, arrow_xpath)))\n",
    "arrow_button.click()\n",
    "time.sleep(20)\n",
    "\n",
    "\n",
    "response_xpath = \"/html/body/labs-tailwind-root/div/notebook/div/div/div/div[2]/div[2]/chat-layout/div/div/div[2]/chat-message[2]/div/mat-card/mat-card-actions/chat-message-actions/div[1]/div/button/mat-icon\"\n",
    "\n",
    "all_elements = WebDriverWait(driver, 50).until(EC.presence_of_all_elements_located((By.XPATH, response_xpath)))\n",
    "\n",
    "if all_elements:\n",
    "    all_elements[-1].click()\n",
    "        \n",
    "time.sleep(3)\n",
    "\n",
    "#driver.quit()"
   ]
  },
  {
   "cell_type": "code",
   "execution_count": 101,
   "id": "4034ea03-2922-4886-9767-8f10ce93461b",
   "metadata": {},
   "outputs": [
    {
     "data": {
      "text/plain": [
       "\"It's going to be okay. Take a deep breath and let's go through this step by step. The most important thing is to stay calm and follow these steps:\\r\\n\\r\\n*   **Call 911 or your local emergency number right away.**  It's crucial to get professional medical help on the way as quickly as possible.\\r\\n*   **While waiting for help to arrive:**\\r\\n\\r\\n    *   **Are you or the person with you breathing?** If not, begin CPR if you are trained. If you are untrained, the 911 operator may be able to guide you through it. \\r\\n    *   **Is there heavy bleeding?** If so, try to stop or slow the bleeding by applying pressure to the wound with a clean cloth. Do not apply pressure to a head wound if you suspect a skull fracture.\\r\\n    *   **Is the person unconscious?** If so, lay them on their back with their head and shoulders slightly elevated. Don't move them unless absolutely necessary.\\r\\n*   **Keep the person calm and reassure them that help is on the way.**\\r\\n*   **Gather any important information, such as what kind of poison was ingested or how long the person has been having symptoms.** \\r\\n\\r\\nRemember, staying calm and acting quickly are the most important things you can do in an emergency. \\r\\n\""
      ]
     },
     "execution_count": 101,
     "metadata": {},
     "output_type": "execute_result"
    }
   ],
   "source": [
    "clipboard_content = pyperclip.paste()\n",
    "clipboard_content"
   ]
  },
  {
   "cell_type": "code",
   "execution_count": 80,
   "id": "f1511b45-47ee-4fc4-ac05-6b48c417ab25",
   "metadata": {},
   "outputs": [
    {
     "data": {
      "text/plain": [
       "'clipboard_content = pyperclip.paste()\\n'"
      ]
     },
     "execution_count": 80,
     "metadata": {},
     "output_type": "execute_result"
    }
   ],
   "source": [
    "clipboard_content"
   ]
  },
  {
   "cell_type": "code",
   "execution_count": null,
   "id": "1cf14fe9-56e3-4c1c-8c87-24b53b797df1",
   "metadata": {},
   "outputs": [],
   "source": [
    "/html/body/labs-tailwind-root/div/notebook/div/div/div/div[2]/div[2]/chat-layout/div/div/div[2]/chat-message[4]/div/mat-card/mat-card-actions/chat-message-actions/div[1]/div/button/mat-icon\n",
    "\n",
    "/html/body/labs-tailwind-root/div/notebook/div/div/div/div[2]/div[2]/chat-layout/div/div/div[2]/chat-message[2]/div/mat-card/mat-card-actions/chat-message-actions/div[1]/div/button/mat-icon"
   ]
  }
 ],
 "metadata": {
  "kernelspec": {
   "display_name": "Python 3 (ipykernel)",
   "language": "python",
   "name": "python3"
  },
  "language_info": {
   "codemirror_mode": {
    "name": "ipython",
    "version": 3
   },
   "file_extension": ".py",
   "mimetype": "text/x-python",
   "name": "python",
   "nbconvert_exporter": "python",
   "pygments_lexer": "ipython3",
   "version": "3.12.4"
  }
 },
 "nbformat": 4,
 "nbformat_minor": 5
}
